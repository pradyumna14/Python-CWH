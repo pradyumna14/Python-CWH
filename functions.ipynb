{
 "cells": [
  {
   "cell_type": "markdown",
   "metadata": {},
   "source": [
    "FUCNTIONS"
   ]
  },
  {
   "cell_type": "code",
   "execution_count": 2,
   "metadata": {},
   "outputs": [
    {
     "name": "stdout",
     "output_type": "stream",
     "text": [
      "First name is greater\n",
      "4.235294117647059\n",
      "Second number is greater\n",
      "1.2\n"
     ]
    }
   ],
   "source": [
    "def calculateGmean(a,b):\n",
    "    mean = (a*b)/(a+b)\n",
    "    print(mean)\n",
    "    \n",
    "def isGreater(a,b):\n",
    "    if(a>b):\n",
    "        print(\"First name is greater\")\n",
    "    else:\n",
    "        print(\"Second number is greater\")\n",
    "    \n",
    "    def isLesser(a,b):\n",
    "        pass    #We just defined a function here but body hasnt been written yet, we sahll write it later soo abhi k liye we just passed it! if pass lekheko xaina bhaney error throw garxa!\n",
    "    \n",
    "a = 9\n",
    "b = 8\n",
    "isGreater(a,b)\n",
    "calculateGmean(a,b) \n",
    "\n",
    "c = 2\n",
    "d = 3 \n",
    "isGreater(c,d)\n",
    "calculateGmean(c,d)"
   ]
  },
  {
   "cell_type": "markdown",
   "metadata": {},
   "source": [
    "Function Arguments!\n",
    "There are 4 tyoes of arguments!"
   ]
  },
  {
   "cell_type": "code",
   "execution_count": 7,
   "metadata": {},
   "outputs": [
    {
     "name": "stdout",
     "output_type": "stream",
     "text": [
      "The average is  5.0\n",
      "The average is  2.5\n",
      "The average is  2.0\n",
      "The average is  9.0\n",
      "Hello Amy Agrawal Jain\n"
     ]
    }
   ],
   "source": [
    "#Default arguments!\n",
    "\n",
    "#We can provide a default value while creating a function. this way the function assumes a default value even if a value is not provided in the function call for that argument!\n",
    "\n",
    "def average(a=9, b=1):\n",
    "    print(\"The average is \", (a+b)/2)\n",
    "    \n",
    "average()\n",
    "average(2,3)  #overides the default arguments!\n",
    "average(3)    #Value of a is 3 and b is the dafault as it is!\n",
    "average(b=9)  #Value of a is 9 as the default only and the value of b is 9 that is overide!\n",
    "\n",
    "def name(fname, mname=\"John\", lname=\"whatson\"):\n",
    "    print(\"Hello\", fname, mname, lname)\n",
    "\n",
    "name(\"Amy\", \"Agrawal\", \"Jain\")"
   ]
  },
  {
   "cell_type": "code",
   "execution_count": 8,
   "metadata": {},
   "outputs": [
    {
     "name": "stdout",
     "output_type": "stream",
     "text": [
      "The average is 15.0\n"
     ]
    }
   ],
   "source": [
    "#Keyword Arguments!\n",
    "\n",
    "# We can provide arguments with key = value, this way the interpreter recognizes the arguments by the parameter name. Hence, the order in thich the arguments are passed does not matter.\n",
    "\n",
    "def average(a=9, b=1):\n",
    "    print(\"The average is\", (a+b)/2)\n",
    "\n",
    "average(b=9,a=21)  #b ko value in the argument will be 9 not 21.Order does not matter here!!"
   ]
  },
  {
   "cell_type": "code",
   "execution_count": 11,
   "metadata": {},
   "outputs": [
    {
     "name": "stdout",
     "output_type": "stream",
     "text": [
      "hello peter quill Pradyumna\n"
     ]
    }
   ],
   "source": [
    "#Required arguments\n",
    "\n",
    "#In case we don't pass the arguments with a key = valuesyntax, then it is necessary to pass the arguments in the correct positional order and the number of arguments passed should match with actual function definition.\n",
    "\n",
    "def name(fname, mname, lname):\n",
    "    print(\"hello\", fname, mname, lname)\n",
    "name(\"peter\", \"quill\")\n",
    "#>> error TypeError: name() missing 1 required positional argument: 'lname'\n",
    "\n",
    "# hence we have to assign paramenter to every argument!\n",
    "\n",
    "name(\"peter\",\"quill\", \"Pradyumna\")\n",
    "#>> hello peter quill Pradyumna"
   ]
  },
  {
   "cell_type": "code",
   "execution_count": 19,
   "metadata": {},
   "outputs": [
    {
     "name": "stdout",
     "output_type": "stream",
     "text": [
      "<class 'tuple'>\n",
      "Average is:  4.5\n",
      "4.5\n",
      "<class 'dict'>\n",
      "Hello Pradyumna sharma kattel\n"
     ]
    }
   ],
   "source": [
    "#Variable-length argument!\n",
    "\n",
    "def average (*numbers):\n",
    "    # Here numbers is taken as a tuple \n",
    "    print(type(numbers))\n",
    "\n",
    "    sum = 0\n",
    "    for i in numbers:\n",
    "        sum = sum + i\n",
    "    print(\"Average is: \", sum/len(numbers))\n",
    "\n",
    "average(2,3,4,5,6,7)  \n",
    "#Its better to do like this instead taking the argument as (a,b,c,d,e,f)\n",
    "\n",
    "\n",
    "# Using Return method!\n",
    "def average (*numbers):\n",
    "\n",
    "    sum = 0\n",
    "    for i in numbers:\n",
    "        sum = sum + i\n",
    "    return sum/len(numbers)\n",
    "\n",
    "c = average(2,3,4,5,6,7)\n",
    "print(c)\n",
    "\n",
    "# We want in dictionary form!\n",
    "\n",
    "def name(**name):\n",
    "    print(type(name))\n",
    "    print(\"Hello\", name[\"fname\"],name[\"mname\"], name[\"lname\"])\n",
    "    \n",
    "name(mname=\"sharma\", lname = \"kattel\", fname = \"Pradyumna\")\n"
   ]
  }
 ],
 "metadata": {
  "kernelspec": {
   "display_name": "base",
   "language": "python",
   "name": "python3"
  },
  "language_info": {
   "codemirror_mode": {
    "name": "ipython",
    "version": 3
   },
   "file_extension": ".py",
   "mimetype": "text/x-python",
   "name": "python",
   "nbconvert_exporter": "python",
   "pygments_lexer": "ipython3",
   "version": "3.11.5"
  }
 },
 "nbformat": 4,
 "nbformat_minor": 2
}
