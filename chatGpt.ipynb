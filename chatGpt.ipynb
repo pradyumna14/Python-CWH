{
 "cells": [
  {
   "cell_type": "markdown",
   "metadata": {},
   "source": [
    "Functions!"
   ]
  },
  {
   "cell_type": "code",
   "execution_count": 2,
   "metadata": {},
   "outputs": [
    {
     "name": "stdout",
     "output_type": "stream",
     "text": [
      "The reversed list is:  [5, 4, 3, 2, 1]\n"
     ]
    }
   ],
   "source": [
    "#Using a function WAP to reverse a list!\n",
    "\n",
    "def reverseList(list):\n",
    "    return list[::-1]\n",
    "\n",
    "originalList = [1,2,3,4,5]\n",
    "reversedList = reverseList(originalList)\n",
    "\n",
    "print(\"The reversed list is: \", reversedList)"
   ]
  },
  {
   "cell_type": "code",
   "execution_count": 12,
   "metadata": {},
   "outputs": [
    {
     "name": "stdout",
     "output_type": "stream",
     "text": [
      "The sorted list is:  [1, 2, 3, 4, 5, 6, 47]\n"
     ]
    }
   ],
   "source": [
    "# Using a function WAP to sort a list!\n",
    "\n",
    "def sortList(list):\n",
    "    list.sort()\n",
    "    return list\n",
    "\n",
    "list = [1,2,4,5,3,47,6]\n",
    "sortedList = sortList(list)\n",
    "\n",
    "print(\"The sorted list is: \", sortedList)"
   ]
  },
  {
   "cell_type": "code",
   "execution_count": 20,
   "metadata": {},
   "outputs": [
    {
     "name": "stdout",
     "output_type": "stream",
     "text": [
      "The final list is:  [6, 5, 4, 3, 2, 1]\n"
     ]
    }
   ],
   "source": [
    "# Using a function WAP to sort then reverse a list!\n",
    "\n",
    "def F(list):\n",
    "    list.sort()\n",
    "    x = list[::-1]  #When used list[::-1] \n",
    "    return x\n",
    "    \n",
    "list = [3,2,4,5,1,6]\n",
    "A = F(list)\n",
    "print(\"The final list is: \", A)\n"
   ]
  },
  {
   "cell_type": "code",
   "execution_count": null,
   "metadata": {},
   "outputs": [],
   "source": []
  }
 ],
 "metadata": {
  "kernelspec": {
   "display_name": "base",
   "language": "python",
   "name": "python3"
  },
  "language_info": {
   "codemirror_mode": {
    "name": "ipython",
    "version": 3
   },
   "file_extension": ".py",
   "mimetype": "text/x-python",
   "name": "python",
   "nbconvert_exporter": "python",
   "pygments_lexer": "ipython3",
   "version": "3.11.5"
  }
 },
 "nbformat": 4,
 "nbformat_minor": 2
}
