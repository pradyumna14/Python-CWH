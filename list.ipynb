{
 "cells": [
  {
   "cell_type": "markdown",
   "metadata": {},
   "source": [
    "List!"
   ]
  },
  {
   "cell_type": "code",
   "execution_count": 4,
   "metadata": {},
   "outputs": [
    {
     "name": "stdout",
     "output_type": "stream",
     "text": [
      "[3, 5, 6]\n",
      "<class 'list'>\n",
      "3\n",
      "5\n",
      "6\n"
     ]
    }
   ],
   "source": [
    "marks = [3,5,6]\n",
    "print(marks)\n",
    "print(type(marks))\n",
    "print(marks[0])\n",
    "print(marks[1])\n",
    "print(marks[2])\n",
    "\n",
    "#List is mutable/changable but tuple is not!\n",
    "#Lisy can store all types of data type under the same list! marks = [3,5,6, \"Pradyumna\", True]\n",
    "\n",
    "\n"
   ]
  },
  {
   "cell_type": "markdown",
   "metadata": {},
   "source": [
    "Negative indexing"
   ]
  },
  {
   "cell_type": "code",
   "execution_count": 5,
   "metadata": {},
   "outputs": [
    {
     "name": "stdout",
     "output_type": "stream",
     "text": [
      "5\n",
      "5\n",
      "5\n",
      "5\n"
     ]
    }
   ],
   "source": [
    "#when given a negative indexing, its better to convert to positive index than reading from behind!\n",
    "marks = [3,5,6,8]\n",
    "print(marks[-3]) # this is a negative index!\n",
    "print(marks[len(marks)-3]) #converted the same to positive index!\n",
    "print(marks[4-3])\n",
    "print(marks[1])\n",
    "\n"
   ]
  },
  {
   "cell_type": "code",
   "execution_count": 8,
   "metadata": {},
   "outputs": [
    {
     "name": "stdout",
     "output_type": "stream",
     "text": [
      "Not present\n"
     ]
    }
   ],
   "source": [
    "#check if the word Pradyumna is inside the list or not\n",
    "#We us 'in' keyword to check!\n",
    "\n",
    "marks = [3,5,6,8,\"Pradyumna\"]\n",
    "if \"Pradyumna\" in marks:\n",
    "    print(\"Yes\")\n",
    "else:\n",
    "    print(\"Not present\")\n"
   ]
  },
  {
   "cell_type": "markdown",
   "metadata": {},
   "source": [
    "Slicing and Jumping Index"
   ]
  },
  {
   "cell_type": "code",
   "execution_count": 11,
   "metadata": {},
   "outputs": [
    {
     "name": "stdout",
     "output_type": "stream",
     "text": [
      "[3, 5, 6, 'Pradyumna', True, 6, 7, 2, 32, 345, 23]\n",
      "[3, 5, 6, 'Pradyumna', True, 6, 7, 2, 32, 345, 23]\n",
      "[5, 6, 'Pradyumna', True, 6, 7, 2, 32]\n",
      "[5, True, 2]\n",
      "[3, 5]\n",
      "[6, 'Pradyumna', True, 6, 7, 2, 32, 345, 23]\n"
     ]
    }
   ],
   "source": [
    "marks=[3,5,6,'Pradyumna',True,6,7,2,32,345,23]\n",
    "\n",
    "print(marks)\n",
    "print(marks[:])   #prints whole list! [0:len(marks)] bujxa!\n",
    "print(marks[1:9]) #slicing\n",
    "print(marks[1:9:3]) #slices from 1 to 9 first then jumps 3-3 times each!\n",
    "\n",
    "print(marks[:2]) #colon ko agadi automatically 0 auxa!\n",
    "print(marks[2:]) #colon ko pachadi automatically len(marks) auxa!\n"
   ]
  },
  {
   "cell_type": "markdown",
   "metadata": {},
   "source": [
    "List Comprehension!"
   ]
  },
  {
   "cell_type": "code",
   "execution_count": 13,
   "metadata": {},
   "outputs": [
    {
     "name": "stdout",
     "output_type": "stream",
     "text": [
      "[0, 1, 4, 9, 16, 25, 36, 49, 64, 81]\n",
      "[0, 4, 16, 36, 64]\n"
     ]
    }
   ],
   "source": [
    "list = [i*i for i in range(10)]\n",
    "print(list)\n",
    "\n",
    "list = [i*i for i in range(10) if i%2==0]\n",
    "print(list)\n"
   ]
  },
  {
   "cell_type": "code",
   "execution_count": 14,
   "metadata": {},
   "outputs": [
    {
     "name": "stdout",
     "output_type": "stream",
     "text": [
      "['Milo', 'Bruno', 'Rosa']\n"
     ]
    }
   ],
   "source": [
    "#Accepts items with samm letter \"o\" in the new list!\n",
    "names=[\"Milo\", \"Sarah\", \"Bruno\", \"Anastasia\", \"Rosa\"]\n",
    "nameswith_o = [item for item in names if \"o\" in item]\n",
    "print(nameswith_o)"
   ]
  },
  {
   "cell_type": "code",
   "execution_count": 17,
   "metadata": {},
   "outputs": [
    {
     "name": "stdout",
     "output_type": "stream",
     "text": [
      "['Sarah', 'Bruno', 'Anastasia']\n"
     ]
    }
   ],
   "source": [
    "#Accepts items which have more than 4 lettes!\n",
    "names=[\"Milo\", \"Sarah\", \"Bruno\", \"Anastasia\", \"Rosa\"]\n",
    "nameswithmore_4=[item for item in names if (len(item)>4)]\n",
    "print(nameswithmore_4)"
   ]
  }
 ],
 "metadata": {
  "kernelspec": {
   "display_name": "base",
   "language": "python",
   "name": "python3"
  },
  "language_info": {
   "codemirror_mode": {
    "name": "ipython",
    "version": 3
   },
   "file_extension": ".py",
   "mimetype": "text/x-python",
   "name": "python",
   "nbconvert_exporter": "python",
   "pygments_lexer": "ipython3",
   "version": "3.11.5"
  }
 },
 "nbformat": 4,
 "nbformat_minor": 2
}
