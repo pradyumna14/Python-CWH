{
 "cells": [
  {
   "cell_type": "markdown",
   "metadata": {},
   "source": [
    "List!"
   ]
  },
  {
   "cell_type": "code",
   "execution_count": 4,
   "metadata": {},
   "outputs": [
    {
     "name": "stdout",
     "output_type": "stream",
     "text": [
      "[3, 5, 6]\n",
      "<class 'list'>\n",
      "3\n",
      "5\n",
      "6\n"
     ]
    }
   ],
   "source": [
    "marks = [3,5,6]\n",
    "print(marks)\n",
    "print(type(marks))\n",
    "print(marks[0])\n",
    "print(marks[1])\n",
    "print(marks[2])\n",
    "\n",
    "#List is mutable/changable but tuple is not!\n",
    "#Lisy can store all types of data type under the same list! marks = [3,5,6, \"Pradyumna\", True]\n",
    "\n",
    "\n"
   ]
  },
  {
   "cell_type": "markdown",
   "metadata": {},
   "source": [
    "Negative indexing"
   ]
  },
  {
   "cell_type": "code",
   "execution_count": 5,
   "metadata": {},
   "outputs": [
    {
     "name": "stdout",
     "output_type": "stream",
     "text": [
      "5\n",
      "5\n",
      "5\n",
      "5\n"
     ]
    }
   ],
   "source": [
    "#when given a negative indexing, its better to convert to positive index than reading from behind!\n",
    "marks = [3,5,6,8]\n",
    "print(marks[-3]) # this is a negative index!\n",
    "print(marks[len(marks)-3]) #converted the same to positive index!\n",
    "print(marks[4-3])\n",
    "print(marks[1])\n",
    "\n"
   ]
  },
  {
   "cell_type": "code",
   "execution_count": 8,
   "metadata": {},
   "outputs": [
    {
     "name": "stdout",
     "output_type": "stream",
     "text": [
      "Not present\n"
     ]
    }
   ],
   "source": [
    "#check if the word Pradyumna is inside the list or not\n",
    "#We us 'in' keyword to check!\n",
    "\n",
    "marks = [3,5,6,8,\"Pradyumna\"]\n",
    "if \"Pradyumna\" in marks:\n",
    "    print(\"Yes\")\n",
    "else:\n",
    "    print(\"Not present\")\n"
   ]
  },
  {
   "cell_type": "markdown",
   "metadata": {},
   "source": [
    "Slicing and Jumping Index"
   ]
  },
  {
   "cell_type": "code",
   "execution_count": 11,
   "metadata": {},
   "outputs": [
    {
     "name": "stdout",
     "output_type": "stream",
     "text": [
      "[3, 5, 6, 'Pradyumna', True, 6, 7, 2, 32, 345, 23]\n",
      "[3, 5, 6, 'Pradyumna', True, 6, 7, 2, 32, 345, 23]\n",
      "[5, 6, 'Pradyumna', True, 6, 7, 2, 32]\n",
      "[5, True, 2]\n",
      "[3, 5]\n",
      "[6, 'Pradyumna', True, 6, 7, 2, 32, 345, 23]\n"
     ]
    }
   ],
   "source": [
    "marks=[3,5,6,'Pradyumna',True,6,7,2,32,345,23]\n",
    "\n",
    "print(marks)\n",
    "print(marks[:])   #prints whole list! [0:len(marks)] bujxa!\n",
    "print(marks[1:9]) #slicing\n",
    "print(marks[1:9:3]) #slices from 1 to 9 first then jumps 3-3 times each!\n",
    "\n",
    "print(marks[:2]) #colon ko agadi automatically 0 auxa!\n",
    "print(marks[2:]) #colon ko pachadi automatically len(marks) auxa!\n"
   ]
  },
  {
   "cell_type": "markdown",
   "metadata": {},
   "source": [
    "List Comprehension!"
   ]
  },
  {
   "cell_type": "code",
   "execution_count": 13,
   "metadata": {},
   "outputs": [
    {
     "name": "stdout",
     "output_type": "stream",
     "text": [
      "[0, 1, 4, 9, 16, 25, 36, 49, 64, 81]\n",
      "[0, 4, 16, 36, 64]\n"
     ]
    }
   ],
   "source": [
    "list = [i*i for i in range(10)]\n",
    "print(list)\n",
    "\n",
    "list = [i*i for i in range(10) if i%2==0]\n",
    "print(list)\n"
   ]
  },
  {
   "cell_type": "code",
   "execution_count": 14,
   "metadata": {},
   "outputs": [
    {
     "name": "stdout",
     "output_type": "stream",
     "text": [
      "['Milo', 'Bruno', 'Rosa']\n"
     ]
    }
   ],
   "source": [
    "#Accepts items with samm letter \"o\" in the new list!\n",
    "names=[\"Milo\", \"Sarah\", \"Bruno\", \"Anastasia\", \"Rosa\"]\n",
    "nameswith_o = [item for item in names if \"o\" in item]\n",
    "print(nameswith_o)"
   ]
  },
  {
   "cell_type": "code",
   "execution_count": 17,
   "metadata": {},
   "outputs": [
    {
     "name": "stdout",
     "output_type": "stream",
     "text": [
      "['Sarah', 'Bruno', 'Anastasia']\n"
     ]
    }
   ],
   "source": [
    "#Accepts items which have more than 4 lettes!\n",
    "names=[\"Milo\", \"Sarah\", \"Bruno\", \"Anastasia\", \"Rosa\"]\n",
    "nameswithmore_4=[item for item in names if (len(item)>4)]\n",
    "print(nameswithmore_4)"
   ]
  },
  {
   "cell_type": "markdown",
   "metadata": {},
   "source": [
    "Methods of Lists"
   ]
  },
  {
   "cell_type": "code",
   "execution_count": 18,
   "metadata": {},
   "outputs": [
    {
     "name": "stdout",
     "output_type": "stream",
     "text": [
      "[1, 2, 3, 4, 5, 6]\n",
      "[1, 2, 3, 4, 5, 6, 7]\n"
     ]
    }
   ],
   "source": [
    "l = [1,2,3,4,5,6]\n",
    "print(l)\n",
    "l.append(7)\n",
    "print(l)\n"
   ]
  },
  {
   "cell_type": "code",
   "execution_count": 24,
   "metadata": {},
   "outputs": [
    {
     "name": "stdout",
     "output_type": "stream",
     "text": [
      "[1, 1, 2, 3, 4, 5, 6, 9, 11]\n",
      "[11, 9, 6, 5, 4, 3, 2, 1, 1]\n",
      "[1, 1, 2, 3, 4, 5, 6, 9, 11]\n",
      "0\n",
      "2\n",
      "[0, 1, 2, 3, 4, 5, 6, 9, 11]\n",
      "[1, 899, 1, 2, 3, 4, 5, 6, 9, 11]\n",
      "[1, 899, 1, 2, 3, 4, 5, 6, 9, 11, 900, 1000, 1100]\n",
      "[1, 899, 1, 2, 3, 4, 5, 6, 9, 11, 900, 1000, 1100]\n"
     ]
    }
   ],
   "source": [
    "l = [11,9,1,2,3,4,5,6,1]\n",
    "l.sort()\n",
    "print(l)\n",
    "l.sort(reverse=True)\n",
    "print(l)\n",
    "\n",
    "l.reverse()  #Reverses the original list!\n",
    "print(l)\n",
    "\n",
    "print(l.index(1))  # value 1 kun index mah auxa tesko answer dinxa!\n",
    "print(l.count(1)) # value 1 kati xoti repeat bhako xah list mah!\n",
    "\n",
    "m = l.copy() #creates a new list m which copies the value of l\n",
    "m[0]=0\n",
    "print(m)\n",
    "\n",
    "l.insert(1,899)  #list l ko index 1 mah 899 intert gar!\n",
    "print(l)\n",
    "\n",
    "m=[900,1000,1100]\n",
    "k=l+m\n",
    "print(k)  #creakes new list k which concatinates the value of ist l and m!\n",
    "\n",
    "l.extend(m) #same list l mah extend garxa! and new l is printed!\n",
    "print(l)"
   ]
  }
 ],
 "metadata": {
  "kernelspec": {
   "display_name": "base",
   "language": "python",
   "name": "python3"
  },
  "language_info": {
   "codemirror_mode": {
    "name": "ipython",
    "version": 3
   },
   "file_extension": ".py",
   "mimetype": "text/x-python",
   "name": "python",
   "nbconvert_exporter": "python",
   "pygments_lexer": "ipython3",
   "version": "3.11.5"
  }
 },
 "nbformat": 4,
 "nbformat_minor": 2
}
