{
 "cells": [
  {
   "cell_type": "markdown",
   "metadata": {},
   "source": [
    "Dictionaries"
   ]
  },
  {
   "cell_type": "code",
   "execution_count": 8,
   "metadata": {},
   "outputs": [
    {
     "name": "stdout",
     "output_type": "stream",
     "text": [
      "19\n",
      "{'name': 'pradyumna', 'age': 19, 'eligible': True}\n",
      "dict_keys(['name', 'age', 'eligible'])\n",
      "dict_values(['pradyumna', 19, True])\n",
      "the value correspinsing to the key name in pradyumna\n",
      "the value correspinsing to the key age in 19\n",
      "the value correspinsing to the key eligible in True\n"
     ]
    }
   ],
   "source": [
    "info = {\n",
    "     'name' : 'pradyumna',\n",
    "     'age' : 19,\n",
    "     'eligible' : True\n",
    " }\n",
    "print(info['age'])\n",
    "print(info)\n",
    "print(info.keys())\n",
    "print(info.values())\n",
    " \n",
    "\n",
    "for i in info.keys():\n",
    "    print(f\"the value correspinsing to the key {i} in {info[i]}\")\n",
    "\n",
    "  \n",
    "\n",
    " "
   ]
  }
 ],
 "metadata": {
  "kernelspec": {
   "display_name": "base",
   "language": "python",
   "name": "python3"
  },
  "language_info": {
   "codemirror_mode": {
    "name": "ipython",
    "version": 3
   },
   "file_extension": ".py",
   "mimetype": "text/x-python",
   "name": "python",
   "nbconvert_exporter": "python",
   "pygments_lexer": "ipython3",
   "version": "3.11.5"
  }
 },
 "nbformat": 4,
 "nbformat_minor": 2
}
