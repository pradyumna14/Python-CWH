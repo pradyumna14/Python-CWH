{
 "cells": [
  {
   "cell_type": "markdown",
   "metadata": {},
   "source": [
    "Tuples! it is immutable! somethomes we need a constant list which is immutable! in that case we use tupple!\n",
    "Positive and negative indexinf is same as that to list in tuples!\n",
    "slicing is also done! New tuple is returned, same tuple mah change hudaina!"
   ]
  },
  {
   "cell_type": "code",
   "execution_count": 8,
   "metadata": {},
   "outputs": [
    {
     "name": "stdout",
     "output_type": "stream",
     "text": [
      "('Pradyumna', 18, 9.8, 1, 3, 4)\n",
      "18\n",
      "Yes 18 is in the tuple(named details)\n",
      "(18, 9.8, 1)\n"
     ]
    }
   ],
   "source": [
    "details = (\"Pradyumna\", 18, 9.8,1,3,4)\n",
    "print(details)\n",
    "print(details[1])\n",
    "if 18 in details:\n",
    "    print(\"Yes 18 is in the tuple(named details)\")\n",
    "else:\n",
    "    print(\"No 18 is not in the tuple(named details)\")\n",
    "    \n",
    "tup2 = details[1:4]\n",
    "print(tup2)\n",
    "\n"
   ]
  },
  {
   "cell_type": "markdown",
   "metadata": {},
   "source": [
    "Methods in Tuples!"
   ]
  },
  {
   "cell_type": "code",
   "execution_count": 16,
   "metadata": {},
   "outputs": [
    {
     "name": "stdout",
     "output_type": "stream",
     "text": [
      "('Spain', 'Italy', 'Finland', 'Germany', 'Russia')\n",
      "1\n"
     ]
    }
   ],
   "source": [
    "# We cant directly make change in the tuple! first we have to convert it into the list, edit the list and then convert the list back to the tuple!\n",
    "\n",
    "countries = (\"Spain\", \"Italy\", \"India\", \"England\", \"Germany\")\n",
    "temp = list(countries)\n",
    "temp.append(\"Russia\")\n",
    "temp.pop(3)\n",
    "temp[2]=\"Finland\"\n",
    "countries = tuple(temp)\n",
    "print(countries)\n",
    "\n",
    "#We can Concatinate the tuples!\n",
    "\n",
    "print(countries.count(\"Germany\"))"
   ]
  },
  {
   "cell_type": "code",
   "execution_count": 19,
   "metadata": {},
   "outputs": [
    {
     "name": "stdout",
     "output_type": "stream",
     "text": [
      "Index of 3 in tuple is: 7\n",
      "10\n"
     ]
    }
   ],
   "source": [
    "#index method!\n",
    "\n",
    "tuple1 = (0,1,2,3,2,31,1,3,2,3)\n",
    "res = tuple1.index(3,4,8)   #3 is here the value jasko index hamilai chaiyeko xah in the sliced part of 4 and 8 index!\n",
    "print('Index of 3 in tuple is:', res)\n",
    "print(len(tuple1))"
   ]
  }
 ],
 "metadata": {
  "kernelspec": {
   "display_name": "base",
   "language": "python",
   "name": "python3"
  },
  "language_info": {
   "codemirror_mode": {
    "name": "ipython",
    "version": 3
   },
   "file_extension": ".py",
   "mimetype": "text/x-python",
   "name": "python",
   "nbconvert_exporter": "python",
   "pygments_lexer": "ipython3",
   "version": "3.11.5"
  }
 },
 "nbformat": 4,
 "nbformat_minor": 2
}
