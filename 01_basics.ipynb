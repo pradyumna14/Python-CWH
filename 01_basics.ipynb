{
 "cells": [
  {
   "cell_type": "code",
   "execution_count": 3,
   "metadata": {},
   "outputs": [
    {
     "name": "stdout",
     "output_type": "stream",
     "text": [
      "Hello World 99 \n",
      "5\n",
      "51\n"
     ]
    }
   ],
   "source": [
    "# 1st program\n",
    "print(\"Hello World\", 99)\n",
    "print(5)\n",
    "print(17*3)"
   ]
  },
  {
   "cell_type": "code",
   "execution_count": 5,
   "metadata": {},
   "outputs": [
    {
     "name": "stdout",
     "output_type": "stream",
     "text": [
      "hey~6~9009\n",
      "hey 6 9 "
     ]
    }
   ],
   "source": [
    "#5th Lecture\n",
    "# We can comment in python using a #\n",
    "# We can use \"\\n\" as the escape sequence character!\n",
    "print(\"hey\", 6, 9, sep = \"~\", end = \"009\\n\")\n",
    "print(\"hey\", 6, 9, sep = \" \", end = \" \")"
   ]
  },
  {
   "cell_type": "code",
   "execution_count": null,
   "metadata": {},
   "outputs": [],
   "source": []
  }
 ],
 "metadata": {
  "kernelspec": {
   "display_name": "base",
   "language": "python",
   "name": "python3"
  },
  "language_info": {
   "codemirror_mode": {
    "name": "ipython",
    "version": 3
   },
   "file_extension": ".py",
   "mimetype": "text/x-python",
   "name": "python",
   "nbconvert_exporter": "python",
   "pygments_lexer": "ipython3",
   "version": "3.11.5"
  }
 },
 "nbformat": 4,
 "nbformat_minor": 2
}
