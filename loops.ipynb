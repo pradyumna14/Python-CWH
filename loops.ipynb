{
 "cells": [
  {
   "cell_type": "markdown",
   "metadata": {},
   "source": [
    "LOOPS By CWH"
   ]
  },
  {
   "cell_type": "code",
   "execution_count": 5,
   "metadata": {},
   "outputs": [
    {
     "name": "stdout",
     "output_type": "stream",
     "text": [
      "p\n",
      "r\n",
      "a\n",
      "d\n",
      "this is smth special!\n",
      "y\n",
      "u\n",
      "m\n",
      "n\n",
      "d\n",
      "this is smth special!\n",
      "a\n"
     ]
    }
   ],
   "source": [
    "# Strings main Loop lagarahe hain!\n",
    "name = 'pradyumnda'\n",
    "for i in name:\n",
    "    print(i)\n",
    "    if(i==\"d\"):\n",
    "        print(\"this is smth special!\")"
   ]
  },
  {
   "cell_type": "code",
   "execution_count": 7,
   "metadata": {},
   "outputs": [
    {
     "name": "stdout",
     "output_type": "stream",
     "text": [
      "red\n",
      "green\n",
      "blue\n",
      "yellow\n"
     ]
    }
   ],
   "source": [
    "#list main Loop lagrahe hain!\n",
    "colors=[\"red\", \"green\", \"blue\", \"yellow\"]\n",
    "for color in colors:\n",
    "    print(color)"
   ]
  },
  {
   "cell_type": "code",
   "execution_count": 9,
   "metadata": {},
   "outputs": [
    {
     "name": "stdout",
     "output_type": "stream",
     "text": [
      "red\n",
      "r\n",
      "e\n",
      "d\n",
      "green\n",
      "g\n",
      "r\n",
      "e\n",
      "e\n",
      "n\n",
      "blue\n",
      "b\n",
      "l\n",
      "u\n",
      "e\n",
      "yellow\n",
      "y\n",
      "e\n",
      "l\n",
      "l\n",
      "o\n",
      "w\n"
     ]
    }
   ],
   "source": [
    "#list ko ta loop bhayo bhayo, abata list ko bhitra ko string lai pani loop garam! \n",
    "colors=[\"red\", \"green\", \"blue\", \"yellow\"]\n",
    "for color in colors:\n",
    "    print(color)\n",
    "    for i in color:\n",
    "        print(i)"
   ]
  },
  {
   "cell_type": "markdown",
   "metadata": {},
   "source": [
    "RANGE"
   ]
  },
  {
   "cell_type": "code",
   "execution_count": 13,
   "metadata": {},
   "outputs": [
    {
     "name": "stdout",
     "output_type": "stream",
     "text": [
      "1\n",
      "2\n",
      "3\n",
      "4\n",
      "5\n",
      "1\n",
      "2\n",
      "3\n",
      "4\n",
      "5\n",
      "6\n",
      "7\n",
      "8\n",
      "1\n",
      "3\n",
      "5\n",
      "7\n",
      "9\n",
      "11\n"
     ]
    }
   ],
   "source": [
    "for i in range(5):\n",
    "    print(i+1)\n",
    "    \n",
    "for k in range(1,9):\n",
    "    print(k)\n",
    "    \n",
    "for j in range(1,12, 2):\n",
    "    print (j)"
   ]
  },
  {
   "cell_type": "markdown",
   "metadata": {},
   "source": [
    " Pattern"
   ]
  },
  {
   "cell_type": "code",
   "execution_count": 17,
   "metadata": {},
   "outputs": [
    {
     "name": "stdout",
     "output_type": "stream",
     "text": [
      "* * * * * \n",
      "* * * * * \n",
      "* * * * * \n",
      "* * * * * \n",
      "* * * * * \n"
     ]
    }
   ],
   "source": [
    "#SQUARE\n",
    "\n",
    "n = 5\n",
    "for i in range(5):\n",
    "    for j in range(5):\n",
    "        print(\"* \", end='')\n",
    "    print()\n",
    "\n"
   ]
  },
  {
   "cell_type": "markdown",
   "metadata": {},
   "source": [
    "Increasing triangle!"
   ]
  },
  {
   "cell_type": "code",
   "execution_count": 19,
   "metadata": {},
   "outputs": [
    {
     "name": "stdout",
     "output_type": "stream",
     "text": [
      "* \n",
      "* * \n",
      "* * * \n",
      "* * * * \n",
      "* * * * * \n"
     ]
    }
   ],
   "source": [
    "n = 5\n",
    "for i in range (5):\n",
    "    for j in range(i+1):\n",
    "        print('*', end=' ')\n",
    "    print()\n",
    "\n"
   ]
  },
  {
   "cell_type": "markdown",
   "metadata": {},
   "source": [
    "Decreasing triangle!"
   ]
  },
  {
   "cell_type": "code",
   "execution_count": 21,
   "metadata": {},
   "outputs": [
    {
     "name": "stdout",
     "output_type": "stream",
     "text": [
      "* * * * * \n",
      "* * * * \n",
      "* * * \n",
      "* * \n",
      "* \n"
     ]
    }
   ],
   "source": [
    "n = 5\n",
    "for i in range (n):\n",
    "    for j in range(n-i):\n",
    "        #for j in range(i, n): Will also work!\n",
    "        print('*', end = \" \")\n",
    "    print ()\n"
   ]
  },
  {
   "cell_type": "code",
   "execution_count": 22,
   "metadata": {},
   "outputs": [
    {
     "name": "stdout",
     "output_type": "stream",
     "text": [
      "          * \n",
      "        * * \n",
      "      * * * \n",
      "    * * * * \n",
      "  * * * * * \n"
     ]
    }
   ],
   "source": [
    "#      *\n",
    "#     **\n",
    "#    ***\n",
    "#   ****\n",
    "#  *****\n",
    "\n",
    "n = 5\n",
    "for i in range(n):\n",
    "    #i=0;\n",
    "    for j in range(i,n):\n",
    "        print(' ', end=' ')\n",
    "    for k in range(i+1):\n",
    "        print('*', end=' ')\n",
    "    print()"
   ]
  },
  {
   "cell_type": "code",
   "execution_count": 23,
   "metadata": {},
   "outputs": [
    {
     "name": "stdout",
     "output_type": "stream",
     "text": [
      "* * * * * \n",
      "  * * * * \n",
      "    * * * \n",
      "      * * \n",
      "        * \n"
     ]
    }
   ],
   "source": [
    "# *****\n",
    "#  ****\n",
    "#   ***\n",
    "#    **\n",
    "#     *\n",
    "\n",
    "n = 5\n",
    "for i in range(5):\n",
    "    #i=0;\n",
    "    for j in range(i):\n",
    "        print(' ', end=' ')\n",
    "    for k in range(i,n):\n",
    "        print('*', end=' ')\n",
    "    print()"
   ]
  },
  {
   "cell_type": "code",
   "execution_count": 28,
   "metadata": {},
   "outputs": [
    {
     "name": "stdout",
     "output_type": "stream",
     "text": [
      "          * \n",
      "        * * * \n",
      "      * * * * * \n",
      "    * * * * * * * \n",
      "  * * * * * * * * * \n"
     ]
    }
   ],
   "source": [
    "#     *\n",
    "#    ***\n",
    "#   ***** \n",
    "\n",
    "n = 5\n",
    "for i in range (n):\n",
    "    \n",
    "    for j in range (i, n):\n",
    "        print(\" \", end=\" \")\n",
    "    for k in range (i+1):\n",
    "        print(\"*\", end=\" \")\n",
    "    for l in range (i):\n",
    "        print(\"*\", end=\" \")\n",
    "    print()   "
   ]
  },
  {
   "cell_type": "code",
   "execution_count": 31,
   "metadata": {},
   "outputs": [
    {
     "name": "stdout",
     "output_type": "stream",
     "text": [
      "* * * * * * * * * \n",
      "  * * * * * * * \n",
      "    * * * * * \n",
      "      * * * \n",
      "        * \n"
     ]
    }
   ],
   "source": [
    "# *****\n",
    "#  ***\n",
    "#   *\n",
    "\n",
    "n = 5\n",
    "for i in range(n):\n",
    "    for j in range(i):\n",
    "        print(' ', end=' ')\n",
    "    for k in range(i, n):\n",
    "        print('* ', end='')\n",
    "    for l in range(i,n-1):\n",
    "        print(\"*\", end= \" \")\n",
    "    print()"
   ]
  },
  {
   "cell_type": "markdown",
   "metadata": {},
   "source": [
    "Diamond!"
   ]
  },
  {
   "cell_type": "code",
   "execution_count": 36,
   "metadata": {},
   "outputs": [
    {
     "name": "stdout",
     "output_type": "stream",
     "text": [
      "          * \n",
      "        * * * \n",
      "      * * * * * \n",
      "    * * * * * * * \n",
      "  * * * * * * * * * \n",
      "    * * * * * * * \n",
      "      * * * * * \n",
      "        * * * \n",
      "          * \n"
     ]
    }
   ],
   "source": [
    "n = 5\n",
    "for i in range(n-1):\n",
    "    for j in range(i, n):\n",
    "        print(' ', end=' ')\n",
    "    for j in range (i):\n",
    "        print('*', end=' ')\n",
    "    for j in range(i+1):\n",
    "        print('*', end=' ')\n",
    "    print()\n",
    "\n",
    "for i in range(n):\n",
    "    for j in range(i+1):\n",
    "        print(' ', end=' ')\n",
    "    for j in range(i, n-1):\n",
    "        print('*', end=' ')\n",
    "    for j in range(i, n):\n",
    "        print('*', end=' ')\n",
    "    print()\n",
    "    "
   ]
  }
 ],
 "metadata": {
  "kernelspec": {
   "display_name": "base",
   "language": "python",
   "name": "python3"
  },
  "language_info": {
   "codemirror_mode": {
    "name": "ipython",
    "version": 3
   },
   "file_extension": ".py",
   "mimetype": "text/x-python",
   "name": "python",
   "nbconvert_exporter": "python",
   "pygments_lexer": "ipython3",
   "version": "3.11.5"
  }
 },
 "nbformat": 4,
 "nbformat_minor": 2
}
